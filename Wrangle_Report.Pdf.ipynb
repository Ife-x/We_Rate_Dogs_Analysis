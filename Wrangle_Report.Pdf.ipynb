{
 "cells": [
  {
   "cell_type": "markdown",
   "id": "aaa6ac58",
   "metadata": {},
   "source": [
    "# Introduction"
   ]
  },
  {
   "cell_type": "markdown",
   "id": "893b50be",
   "metadata": {},
   "source": [
    "Udacity Project 2 entails wrangling and analyzing twitter data relating to an account called WeRateDogs.\n",
    "The wrangling exercise started with gathering data from 3 different sources. One of which was fully provided by Udacity as an archieved file from the account WeRateDogs.\n",
    "All this was achieved using Juypter Notebook as well as Pandas and its relevant liabries.\n",
    "The datasets that I will wrangle are as follows:\n"
   ]
  },
  {
   "cell_type": "markdown",
   "id": "f6d27919",
   "metadata": {},
   "source": [
    "## DATA GATHERING"
   ]
  },
  {
   "cell_type": "markdown",
   "id": "894d5223",
   "metadata": {},
   "source": [
    "A manual download of the data provided by Udacity \"twitter_archieved_csv\" file was done, and i read the file to a pandas dataframe using pd.read_csv. Then request libray  was used to retrieve image prediction data from udacity server which i aslo read into a pandas data frame.\n",
    "I then applied for the Twitter developer elevated access which enabled me get additional data relating to favourite_count, retweet_Count and retweeted status directly from the twitter API.I then put the data for each tweet on a single line and saved the information in a text file called \"tweet-json.txt.\" The information for each tweet (tweet ID, retweet count, like count, and followers count) was obtained using the json library after the query was complete and all the data had been stored to the text file. I then read the text file line by line and appended the obtained information to an empty list.\n",
    "Finally, I created a pandas DataFrame and saved the list of dictionaries in the \"twitter data\" folder."
   ]
  },
  {
   "cell_type": "markdown",
   "id": "2b1a545c",
   "metadata": {},
   "source": [
    "# Assessment and Data Cleaning"
   ]
  },
  {
   "cell_type": "markdown",
   "id": "a76be398",
   "metadata": {},
   "source": [
    "All 3 data set had some quality and tideness issues  which are listed below:\n",
    "    "
   ]
  },
  {
   "cell_type": "markdown",
   "id": "bd9d2727",
   "metadata": {},
   "source": [
    "### Data quality issues:"
   ]
  },
  {
   "cell_type": "markdown",
   "id": "9ec4b4c6",
   "metadata": {},
   "source": [
    "Name : df\n",
    "\n",
    "1. The datatype of tweet_id should be string, not Integer.\n",
    "2. The datatype of the timestamp should be DateTime not Object.\n",
    "3. The columns “in_reply_to_status_id”, “in_reply_to_user_id”, “retweeted_status_id”, “retweeted_status_user_id”, and “retweeted_status_timestamp” have lots of Null values.\n",
    "4. The “doggo”, “floorfer”, “pupper”, and “puppo” columns have lots of “None” values while some of the dog names are contain stopwords like (None, an, by, a, …)\n",
    "5. The “source” column, isnt properly saves as a URL\n"
   ]
  },
  {
   "cell_type": "markdown",
   "id": "83e0ec60",
   "metadata": {},
   "source": [
    "Name: Images\n",
    "1. The prediction is in a mix of uppercase and lowercase.\n",
    "2. The datatype of tweet_id should be string, not Integer\n",
    "3. The dataset contains duplicate images.\n",
    "4. There are pictures in this table that are not dogs"
   ]
  },
  {
   "cell_type": "markdown",
   "id": "ac408b2e",
   "metadata": {},
   "source": [
    "Name: twitter_data\n",
    "1. The datatype of tweet_id should be string, not Intege"
   ]
  },
  {
   "cell_type": "markdown",
   "id": "5b9ed3b9",
   "metadata": {},
   "source": [
    "### Data tidiness issues:"
   ]
  },
  {
   "cell_type": "markdown",
   "id": "032f4ce7",
   "metadata": {},
   "source": [
    "1. The “doggo”, “floorfer”, “pupper”, and “puppo” columns have lots of “None” values, we can combine them into one column.\n",
    "2. Columns retweet_count and favorite_count: This observaional units should be in the twitter_archived table"
   ]
  },
  {
   "cell_type": "markdown",
   "id": "8d242d1d",
   "metadata": {},
   "source": [
    "## Data Cleaning"
   ]
  },
  {
   "cell_type": "markdown",
   "id": "752b73e8",
   "metadata": {},
   "source": [
    "I cleaned the data by address the quality and tidiness issues earlier mention in the following ways:\n",
    "1. I merge all the three table to enable me effect cleaning of datatype issues identified in tweet_id(convert from int to string) column found in all 3 dataset as well as reformating the timestamp column as datarime.\n",
    "2. Drop the retweets, reply records, drop the columns we do not need and drop the tweets without an image or with images which don’t display dogs;\n",
    "3. Extract the source from Html code;\n",
    "4. Replace the wrong names of name column;\n",
    "5. Create new columns, one is in the df_masters to combine “doggo”, “floorfer”, “pupper”, and “puppo”. This should initially have been stored as a row not individual columns.\n",
    "6. Reduce the prediction columns into two — breed and confidence;"
   ]
  },
  {
   "cell_type": "markdown",
   "id": "e294a945",
   "metadata": {},
   "source": [
    "#### After cleaning was completed, data was stored as an updated csv -  twitter_archive_master.csv "
   ]
  },
  {
   "cell_type": "code",
   "execution_count": null,
   "id": "398b4eed",
   "metadata": {},
   "outputs": [],
   "source": []
  }
 ],
 "metadata": {
  "kernelspec": {
   "display_name": "Python 3 (ipykernel)",
   "language": "python",
   "name": "python3"
  },
  "language_info": {
   "codemirror_mode": {
    "name": "ipython",
    "version": 3
   },
   "file_extension": ".py",
   "mimetype": "text/x-python",
   "name": "python",
   "nbconvert_exporter": "python",
   "pygments_lexer": "ipython3",
   "version": "3.9.12"
  }
 },
 "nbformat": 4,
 "nbformat_minor": 5
}
